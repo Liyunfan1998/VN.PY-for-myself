{
 "cells": [
  {
   "cell_type": "code",
   "execution_count": null,
   "metadata": {
    "collapsed": false
   },
   "outputs": [],
   "source": [
    "import pandas as pd\n",
    "dates= pd.date_range('1/1/2018', '8/1/2018')"
   ]
  },
  {
   "cell_type": "code",
   "execution_count": null,
   "metadata": {
    "collapsed": false
   },
   "outputs": [],
   "source": [
    "for item in dates:\n",
    "#     http://alihz-net-0.qbtrade.org/hist-ticks?date=2018-01-02&contract=okex/btc.usdt\n",
    "    a = str(item).split(' ')[0]\n",
    "    print \"curl -o \" + a + \".json \\\"http://alihz-net-0.qbtrade.org/hist-ticks?date=\"+ a + \"&contract=okex/btc.usdt\\\"\"\n",
    "#     print \"curl -o \" + a + \".json \\\"https://1token.trade/api/v1/quote/zhubi?contract=binance/btc.usdt&since=\"+a+\"T00:00:00Z&until=\"+a+\"T23:59:59Z&size=2000\\\"\""
   ]
  },
  {
   "cell_type": "code",
   "execution_count": null,
   "metadata": {
    "collapsed": false
   },
   "outputs": [],
   "source": [
    "#coding=utf-8\n",
    "import sunburnt\n",
    "import urllib\n",
    "from pymongo import *\n",
    "from bson.objectid import ObjectId\n",
    "import logging\n",
    "from datetime import datetime\n",
    "import json\n",
    "from time import mktime\n",
    "from feedparser import _parse_date as parse_date\n",
    "import time\n",
    "import sys\n",
    "import getopt\n",
    "import ConfigParser\n",
    "args = sys.argv[1:]\n",
    "optlist, args = getopt.getopt(args, 'c:')\n",
    "cmd_opt = {}\n",
    "print args,optlist,cmd_opt"
   ]
  },
  {
   "cell_type": "code",
   "execution_count": null,
   "metadata": {
    "collapsed": true
   },
   "outputs": [],
   "source": [
    "for opt in optlist:\n",
    "  cmd_opt[opt[0]] = opt[1]\n",
    "conf_file = cmd_opt['-c']\n",
    "config = ConfigParser.ConfigParser()\n",
    "config.read(conf_file)\n",
    "hostname = config.get(\"mongodb\", \"hostname\")\n",
    "port_num = int(config.get(\"mongodb\", \"port_num\"))\n",
    "db_name = config.get(\"mongodb\", \"db\")\n",
    "connection = Connection(hostname, port_num)\n",
    "db = connection[db_name]\n",
    "courseTable = db.course\n",
    "lecTable = db.lecture"
   ]
  },
  {
   "cell_type": "code",
   "execution_count": null,
   "metadata": {
    "collapsed": true
   },
   "outputs": [],
   "source": [
    "try:\n",
    "  f = file(\"json1-14/14.json\")\n",
    "  s = json.load(f)\n",
    "  courseData = s[\"results\"][\"course\"]\n",
    "  lecDataArr = s[\"results\"][\"lecture\"]\n",
    "  f.close\n",
    "  print \"get file content successfully!\"\n",
    "  #insert course\n",
    "  courseId = courseTable.save(courseData)\n",
    "  courseId = str(courseId)\n",
    "  print \"courseId: \"+courseId\n",
    "  print \"lec length: \"+str(len(lecDataArr))\n",
    "  #insert lecture\n",
    "  lecIdArr = []\n",
    "  for lecData in lecDataArr:\n",
    "    lecData[\"course_id\"] = courseId\n",
    "    lecId = lecTable.save(lecData)\n",
    "    lecIdArr.append(str(lecId))\n",
    "  # update course\n",
    "  courseTable.update({'_id':ObjectId(courseId)},\n",
    "            {\"$set\":{\"lectures.lecture_id_list\":lecIdArr}},\n",
    "            upsert=True, multi=True);\n",
    "  print 'insert successfully!'\n",
    "except Exception, e:\n",
    "  print e"
   ]
  },
  {
   "cell_type": "code",
   "execution_count": null,
   "metadata": {
    "collapsed": true
   },
   "outputs": [],
   "source": [
    "#####################################################################################################################################\n",
    "from pymongo import MongoClient\n",
    "from bson.objectid import ObjectId\n",
    "from read_json  import read\n",
    "\n",
    "\n",
    "\n",
    "def mongoclient(data):\n",
    "    client = MongoClient('127.0.0.1', 27017)\n",
    "    db = client.test\n",
    "    collection = db.test\n",
    "    # collection.insert({})\n",
    "    # for i in collection.find({\"name\":\"乐清市东岸北段\"}):\n",
    "    #      print(i)\n",
    "#     data = ('coastlines.real.json')\n",
    "    find_Da = ('VnBitCoin.bitcoinTICK')\n",
    "    find_Id = ('')\n",
    "    find_Node = ('')\n",
    "\n",
    "    want_Data = read(data, find_Da)  #传入json文件，根据关键字查询\n",
    "    want_Id = read(data, find_Id)\n",
    "    want_No = read(data, find_Node)\n",
    "    id = {'_id': ObjectId(want_Id)}\n",
    "    id_print = collection.find_one(id)\n",
    "    print(id_print)\n",
    "\n",
    "    collection.update((id), {'$set': {'track': want_Data}})   #根据ObjectID修改track\n",
    "    collection.update((id), {'$push': {'nodeindex': want_No}})  #根据ObjectID添加nodeindex\n",
    "    collection.update((id), {'$set': {'nodeindex': want_No}})   #根据ObjectID修改nodeindex ,去除多余的[]\n",
    "\n",
    "\n",
    "    id_change = collection.find_one(id)   #调出修改后的数据\n",
    "    print(\"修改后:\")\n",
    "    print(id_change)\n",
    "\n",
    "\n",
    "\n",
    "\n",
    "if __name__ =='__main__':\n",
    "    mongoclient()\n",
    "\n",
    "<---------------读取文件代码----------------------->\n",
    "import json\n",
    "\n",
    "def read(data, find):\n",
    "    # 设置以utf-8解码模式读取文件，encoding参数必须设置，否则默认以gbk模式读取文件，当文件中包含中文时，会报错\n",
    "    f = open(data, encoding='utf-8')\n",
    "    setting = json.load(f)\n",
    "\n",
    "    # 注意多重结构的读取语法\n",
    "    # family = setting['BaseSettings']['font']\n",
    "    style = setting[find]\n",
    "\n",
    "\n",
    "    # print(family)\n",
    "    return style"
   ]
  },
  {
   "cell_type": "code",
   "execution_count": null,
   "metadata": {
    "collapsed": false
   },
   "outputs": [],
   "source": [
    "#####################################################################################################################################\n",
    "from mongodbHandler import MongoDbHandler \n",
    "from pandas import DataFrame \n",
    "finallyResult = {} \n",
    "finallyResult[\"aa\"]=\"bb\" \n",
    "finallyResult[\"cc\"]=\"dd\" \n",
    "df = DataFrame(finallyResult,index=[1]) \n",
    "data = df.to_dict('records') \n",
    "mongoSession = MongoDbHandler('localhost')#A为mongodb的name,B为用户名,C为密码 \n",
    "mongoSession.insert_many(\"VnBitCoin\", \"bitcoinTICK\", data)#D为数据库名,E为集合名 \n",
    "time.sleep(2) \n",
    "mongoSession.close() "
   ]
  },
  {
   "cell_type": "code",
   "execution_count": 2,
   "metadata": {
    "collapsed": false
   },
   "outputs": [],
   "source": [
    "\n",
    "#!/usr/bin/env python\n",
    "# -*- coding:utf-8 -*-\n",
    "\n",
    "from pymongo import MongoClient\n",
    "conn = MongoClient('127.0.0.1', 27017)\n",
    "#db = conn.VnBitCoin  #连接mydb数据库，没有则自动创建\n",
    "#my_set = db.bitcoinTICK#使用test_set集合，没有则自动创建\n",
    "db = conn.VnTrader_Tick_Db  #连接mydb数据库，没有则自动创建\n",
    "my_set = db.bitcoin#使用test_set集合，没有则自动创建"
   ]
  },
  {
   "cell_type": "code",
   "execution_count": 9,
   "metadata": {
    "collapsed": false
   },
   "outputs": [
    {
     "ename": "ValueError",
     "evalue": "time data '2018-02-27T19:13:36.436847+00:00' does not match format '%Y-%m-%dT%H:%M:%SZ'",
     "traceback": [
      "\u001b[0;31m---------------------------------------------------------------------------\u001b[0m",
      "\u001b[0;31mValueError\u001b[0m                                Traceback (most recent call last)",
      "\u001b[0;32m<ipython-input-9-6fae18a5de8b>\u001b[0m in \u001b[0;36m<module>\u001b[0;34m()\u001b[0m\n\u001b[1;32m     15\u001b[0m                     \u001b[0mdayline\u001b[0m\u001b[0;34m[\u001b[0m\u001b[0;34m'datetime'\u001b[0m\u001b[0;34m]\u001b[0m\u001b[0;34m=\u001b[0m\u001b[0mdatetime\u001b[0m\u001b[0;34m.\u001b[0m\u001b[0mdatetime\u001b[0m\u001b[0;34m.\u001b[0m\u001b[0mstrptime\u001b[0m\u001b[0;34m(\u001b[0m\u001b[0mstr\u001b[0m\u001b[0;34m(\u001b[0m\u001b[0mdayline\u001b[0m\u001b[0;34m[\u001b[0m\u001b[0;34m'time'\u001b[0m\u001b[0;34m]\u001b[0m\u001b[0;34m)\u001b[0m\u001b[0;34m,\u001b[0m\u001b[0;34m'%Y-%m-%dT%H:%M:%S.%fZ'\u001b[0m\u001b[0;34m)\u001b[0m\u001b[0;34m\u001b[0m\u001b[0m\n\u001b[1;32m     16\u001b[0m                 \u001b[0;32mexcept\u001b[0m\u001b[0;34m:\u001b[0m\u001b[0;34m\u001b[0m\u001b[0m\n\u001b[0;32m---> 17\u001b[0;31m                     \u001b[0mdayline\u001b[0m\u001b[0;34m[\u001b[0m\u001b[0;34m'datetime'\u001b[0m\u001b[0;34m]\u001b[0m\u001b[0;34m=\u001b[0m\u001b[0mdatetime\u001b[0m\u001b[0;34m.\u001b[0m\u001b[0mdatetime\u001b[0m\u001b[0;34m.\u001b[0m\u001b[0mstrptime\u001b[0m\u001b[0;34m(\u001b[0m\u001b[0mstr\u001b[0m\u001b[0;34m(\u001b[0m\u001b[0mdayline\u001b[0m\u001b[0;34m[\u001b[0m\u001b[0;34m'time'\u001b[0m\u001b[0;34m]\u001b[0m\u001b[0;34m)\u001b[0m\u001b[0;34m,\u001b[0m\u001b[0;34m'%Y-%m-%dT%H:%M:%SZ'\u001b[0m\u001b[0;34m)\u001b[0m\u001b[0;34m\u001b[0m\u001b[0m\n\u001b[0m\u001b[1;32m     18\u001b[0m \u001b[0;34m\u001b[0m\u001b[0m\n\u001b[1;32m     19\u001b[0m                 \u001b[0;32mfor\u001b[0m \u001b[0mi\u001b[0m \u001b[0;32min\u001b[0m \u001b[0mrange\u001b[0m\u001b[0;34m(\u001b[0m\u001b[0;36m1\u001b[0m\u001b[0;34m,\u001b[0m\u001b[0;36m6\u001b[0m\u001b[0;34m)\u001b[0m\u001b[0;34m:\u001b[0m\u001b[0;34m\u001b[0m\u001b[0m\n",
      "\u001b[0;32mC:\\Users\\pc\\Anaconda2_x86\\lib\\_strptime.pyc\u001b[0m in \u001b[0;36m_strptime\u001b[0;34m(data_string, format)\u001b[0m\n\u001b[1;32m    330\u001b[0m     \u001b[0;32mif\u001b[0m \u001b[0;32mnot\u001b[0m \u001b[0mfound\u001b[0m\u001b[0;34m:\u001b[0m\u001b[0;34m\u001b[0m\u001b[0m\n\u001b[1;32m    331\u001b[0m         raise ValueError(\"time data %r does not match format %r\" %\n\u001b[0;32m--> 332\u001b[0;31m                          (data_string, format))\n\u001b[0m\u001b[1;32m    333\u001b[0m     \u001b[0;32mif\u001b[0m \u001b[0mlen\u001b[0m\u001b[0;34m(\u001b[0m\u001b[0mdata_string\u001b[0m\u001b[0;34m)\u001b[0m \u001b[0;34m!=\u001b[0m \u001b[0mfound\u001b[0m\u001b[0;34m.\u001b[0m\u001b[0mend\u001b[0m\u001b[0;34m(\u001b[0m\u001b[0;34m)\u001b[0m\u001b[0;34m:\u001b[0m\u001b[0;34m\u001b[0m\u001b[0m\n\u001b[1;32m    334\u001b[0m         raise ValueError(\"unconverted data remains: %s\" %\n",
      "\u001b[0;31mValueError\u001b[0m: time data '2018-02-27T19:13:36.436847+00:00' does not match format '%Y-%m-%dT%H:%M:%SZ'"
     ],
     "output_type": "error"
    }
   ],
   "source": [
    "import os,json\n",
    "from pymongo.mongo_client import MongoClient\n",
    "import datetime\n",
    "rootdir = \"E:\\\\1tokenDownload\"\n",
    "tmplist = []\n",
    "for root,dirs,paths in os.walk(rootdir):\n",
    "    for pathfile in paths:\n",
    "        filepath = (os.path.join(root,pathfile))\n",
    "        #你想对文件的操作\n",
    "        with open(filepath) as f:\n",
    "            for line in f:\n",
    "                line = line.replace('+08:00','Z')\n",
    "                dayline = json.loads(line)\n",
    "                try:\n",
    "                    dayline['datetime']=datetime.datetime.strptime(str(dayline['time']),'%Y-%m-%dT%H:%M:%S.%fZ')\n",
    "                except:\n",
    "                    dayline['datetime']=datetime.datetime.strptime(str(dayline['time']),'%Y-%m-%dT%H:%M:%SZ')\n",
    "\n",
    "                for i in range(1,6):\n",
    "                    dayline['askPrice%d'%i]= dayline['asks'][i-1]['price']\n",
    "                    dayline['askVolume%d'%i]= dayline['asks'][i-1]['volume']\n",
    "                    dayline['bidPrice%d'%i]= dayline['bids'][i-1]['price']\n",
    "                    dayline['bidVolume%d'%i]= dayline['bids'][i-1]['volume']\n",
    "                dayline['upperLimit']=100000\n",
    "                dayline['lowerLimit']=0\n",
    "                dayline['openPrice']=''\n",
    "                dayline['rawData']=''\n",
    "                dayline['highPrice']=''\n",
    "                dayline['preClosePrice']=''\n",
    "                dayline['gatewayName']=''\n",
    "                dayline['exchange']=''\n",
    "                dayline['symbol']=''\n",
    "                time = dayline['time'].replace('Z','')\n",
    "                dayline['date']=time.split('T')[0]\n",
    "                dayline['time']=time.split('T')[1]\n",
    "                dayline['vtSymbol']='bitcoin'\n",
    "                try:\n",
    "                    dayline['lastPrice']=dayline['last']\n",
    "                except:\n",
    "                    dayline['lastPrice'] = 0\n",
    "                del dayline['last']\n",
    "                del dayline['asks']\n",
    "                del dayline['bids']\n",
    "                my_set.insert_one(dayline) \n",
    "#                 print dayline\n",
    "#                 break\n",
    "#         break\n",
    "#     break    \n",
    "#                 my_set.insert_one(dayline) \n",
    "#                 tmplist.append(dayline)\n",
    "#         print len(tmplist)\n",
    "#         my_set.insert_many(tmplist) \n",
    "        \n",
    "# list = os.listdir(rootdir) #列出文件夹下所有的目录与文件\n",
    "# for i in range(0,len(list)):\n",
    "\n",
    "#     path = os.path.join(rootdir,list[i])\n",
    "#     if os.path.isfile(path):"
   ]
  },
  {
   "cell_type": "code",
   "execution_count": null,
   "metadata": {
    "collapsed": false
   },
   "outputs": [],
   "source": [
    "del tmplist[0]['asks']"
   ]
  },
  {
   "cell_type": "code",
   "execution_count": null,
   "metadata": {
    "collapsed": false
   },
   "outputs": [],
   "source": [
    "tmplist"
   ]
  },
  {
   "cell_type": "code",
   "execution_count": null,
   "metadata": {
    "collapsed": true
   },
   "outputs": [],
   "source": []
  }
 ],
 "metadata": {
  "kernelspec": {
   "display_name": "Python 2",
   "language": "python",
   "name": "python2"
  },
  "language_info": {
   "codemirror_mode": {
    "name": "ipython",
    "version": 2
   },
   "file_extension": ".py",
   "mimetype": "text/x-python",
   "name": "python",
   "nbconvert_exporter": "python",
   "pygments_lexer": "ipython2",
   "version": "2.7.13"
  }
 },
 "nbformat": 4,
 "nbformat_minor": 0
}
