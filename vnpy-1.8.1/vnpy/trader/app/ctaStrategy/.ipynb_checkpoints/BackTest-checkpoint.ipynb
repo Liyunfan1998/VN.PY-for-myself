{
 "cells": [
  {
   "cell_type": "code",
   "execution_count": null,
   "metadata": {
    "collapsed": false
   },
   "outputs": [],
   "source": [
    "from __future__ import division\n",
    "\n",
    "from vnpy.trader.vtConstant import *    \n",
    "from vnpy.trader.app.ctaStrategy.ctaBacktesting import BacktestingEngine, MINUTE_DB_NAME, TICK_DB_NAME #ctaBase.py"
   ]
  },
  {
   "cell_type": "code",
   "execution_count": null,
   "metadata": {
    "collapsed": false
   },
   "outputs": [],
   "source": [
    "print TICK_DB_NAME\n",
    "from vnpy.trader.app.ctaStrategy.ctaTemplate import *\n",
    "import strategy.TickOneStrategy #"
   ]
  },
  {
   "cell_type": "code",
   "execution_count": null,
   "metadata": {
    "collapsed": false,
    "scrolled": false
   },
   "outputs": [],
   "source": [
    "if __name__ == '__main__':\n",
    "    from strategy.TickOneStrategy import *#\n",
    "    # 创建回测引擎\n",
    "    engine = BacktestingEngine()\n",
    "    \n",
    "    # 设置引擎的回测模式为K线\n",
    "    engine.setBacktestingMode(engine.TICK_MODE)\n",
    "\n",
    "    # 设置回测用的数据起始日期\n",
    "    engine.setStartDate('20180809')\n",
    "    engine.setEndDate('20180809')\n",
    "    \n",
    "    # 设置产品相关参数\n",
    "    engine.setCapital(10000)\n",
    "    engine.setSize(10)\n",
    "    engine.setSlippage(1)     # 股指1跳\n",
    "    engine.setRate(3/10000)   # 万0.3 \n",
    "    engine.setPriceTick(1)    # 股指最小价格变动\n",
    "    \n",
    "    # 设置使用的历史数据库\n",
    "    engine.setDatabase(TICK_DB_NAME, 'rb1901') #[IF0000, rb0000]\n",
    "    #engine.setDatabase('VnBitCoin', 'bitcoinTICK')\n",
    "    # 在引擎中创建策略对象\n",
    "    d = {}\n",
    "    engine.initStrategy(TickOneStrategy)\n",
    "    \n",
    "    # 开始跑回测\n",
    "    engine.runBacktesting()\n",
    "    \n",
    "    # 显示回测结果\n",
    "    engine.showBacktestingResult()"
   ]
  },
  {
   "cell_type": "code",
   "execution_count": null,
   "metadata": {
    "collapsed": false
   },
   "outputs": [],
   "source": [
    "print engine.strategyStartDate"
   ]
  },
  {
   "cell_type": "code",
   "execution_count": null,
   "metadata": {
    "collapsed": false
   },
   "outputs": [],
   "source": [
    "engine.tradeDict.values()"
   ]
  },
  {
   "cell_type": "code",
   "execution_count": null,
   "metadata": {
    "collapsed": false
   },
   "outputs": [],
   "source": [
    "print (engine.tick)"
   ]
  },
  {
   "cell_type": "code",
   "execution_count": null,
   "metadata": {
    "collapsed": false
   },
   "outputs": [],
   "source": [
    "if __name__ == '__main__':\n",
    "    from strategy.TickOneStrategy import *#\n",
    "    # 创建回测引擎\n",
    "    engine = BacktestingEngine()\n",
    "    \n",
    "    # 设置引擎的回测模式为K线\n",
    "    engine.setBacktestingMode(engine.TICK_MODE)\n",
    "\n",
    "    # 设置回测用的数据起始日期\n",
    "    engine.setStartDate('20180101')\n",
    "    engine.setEndDate('20180102')\n",
    "    \n",
    "    # 设置产品相关参数\n",
    "    engine.setCapital(10000)\n",
    "    engine.setSize(10)\n",
    "    engine.setSlippage(1)     # 股指1跳\n",
    "    engine.setRate(3/10000)   # 万0.3 \n",
    "    engine.setPriceTick(1)    # 股指最小价格变动\n",
    "    \n",
    "    # 设置使用的历史数据库\n",
    "    engine.setDatabase(TICK_DB_NAME, 'bitcoin') \n",
    "    # 在引擎中创建策略对象\n",
    "    d = {}\n",
    "    engine.initStrategy(TickOneStrategy)\n",
    "    \n",
    "    # 开始跑回测\n",
    "    engine.runBacktesting()\n",
    "    \n",
    "    # 显示回测结果\n",
    "    engine.showBacktestingResult()"
   ]
  },
  {
   "cell_type": "code",
   "execution_count": null,
   "metadata": {
    "collapsed": true
   },
   "outputs": [],
   "source": []
  }
 ],
 "metadata": {
  "kernelspec": {
   "display_name": "Python 2",
   "language": "python",
   "name": "python2"
  },
  "language_info": {
   "codemirror_mode": {
    "name": "ipython",
    "version": 2
   },
   "file_extension": ".py",
   "mimetype": "text/x-python",
   "name": "python",
   "nbconvert_exporter": "python",
   "pygments_lexer": "ipython2",
   "version": "2.7.13"
  }
 },
 "nbformat": 4,
 "nbformat_minor": 0
}
