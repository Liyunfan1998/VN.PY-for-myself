{
 "cells": [
  {
   "cell_type": "code",
   "execution_count": 2,
   "metadata": {
    "collapsed": true
   },
   "outputs": [],
   "source": [
    "from __future__ import division\n",
    "\n",
    "from vnpy.trader.vtConstant import *    \n",
    "from vnpy.trader.app.ctaStrategy.ctaBacktesting import BacktestingEngine, MINUTE_DB_NAME, TICK_DB_NAME #ctaBase.py"
   ]
  },
  {
   "cell_type": "code",
   "execution_count": 3,
   "metadata": {
    "collapsed": false
   },
   "outputs": [
    {
     "name": "stdout",
     "output_type": "stream",
     "text": [
      "VnTrader_Tick_Db\n"
     ]
    }
   ],
   "source": [
    "print TICK_DB_NAME\n",
    "from vnpy.trader.app.ctaStrategy.ctaTemplate import *\n",
    "import TickOneStrategy #"
   ]
  },
  {
   "cell_type": "code",
   "execution_count": 8,
   "metadata": {
    "collapsed": false,
    "scrolled": false
   },
   "outputs": [
    {
     "name": "stdout",
     "output_type": "stream",
     "text": [
      "2018-08-10 16:29:49.354000\t开始载入数据\n",
      "2018-08-10 16:29:49.639000\t载入完成，数据量：5091\n",
      "2018-08-10 16:29:49.640000\t开始回测\n",
      "2018-08-10 16:29:49.640000\t策略初始化完成\n",
      "2018-08-10 16:29:49.640000\t策略启动完成\n",
      "2018-08-10 16:29:49.641000\t开始回放数据\n",
      "2018-08-10 16:29:49.645000\t数据回放结束\n",
      "2018-08-10 16:29:49.646000\t计算回测结果\n"
     ]
    },
    {
     "ename": "AttributeError",
     "evalue": "'NoneType' object has no attribute 'lastPrice'",
     "output_type": "error",
     "traceback": [
      "\u001b[0;31m---------------------------------------------------------------------------\u001b[0m",
      "\u001b[0;31mAttributeError\u001b[0m                            Traceback (most recent call last)",
      "\u001b[0;32m<ipython-input-8-0a5b7e046130>\u001b[0m in \u001b[0;36m<module>\u001b[0;34m()\u001b[0m\n\u001b[1;32m     30\u001b[0m \u001b[0;34m\u001b[0m\u001b[0m\n\u001b[1;32m     31\u001b[0m     \u001b[0;31m# 显示回测结果\u001b[0m\u001b[0;34m\u001b[0m\u001b[0;34m\u001b[0m\u001b[0m\n\u001b[0;32m---> 32\u001b[0;31m     \u001b[0mengine\u001b[0m\u001b[0;34m.\u001b[0m\u001b[0mshowBacktestingResult\u001b[0m\u001b[0;34m(\u001b[0m\u001b[0;34m)\u001b[0m\u001b[0;34m\u001b[0m\u001b[0m\n\u001b[0m",
      "\u001b[0;32mC:\\Users\\pc\\Anaconda2_x86\\lib\\site-packages\\vnpy-1.8.1-py2.7.egg\\vnpy\\trader\\app\\ctaStrategy\\ctaBacktesting.pyc\u001b[0m in \u001b[0;36mshowBacktestingResult\u001b[0;34m(self)\u001b[0m\n\u001b[1;32m    791\u001b[0m     \u001b[0;32mdef\u001b[0m \u001b[0mshowBacktestingResult\u001b[0m\u001b[0;34m(\u001b[0m\u001b[0mself\u001b[0m\u001b[0;34m)\u001b[0m\u001b[0;34m:\u001b[0m\u001b[0;34m\u001b[0m\u001b[0m\n\u001b[1;32m    792\u001b[0m         \u001b[0;34m\"\"\"显示回测结果\"\"\"\u001b[0m\u001b[0;34m\u001b[0m\u001b[0m\n\u001b[0;32m--> 793\u001b[0;31m         \u001b[0md\u001b[0m \u001b[0;34m=\u001b[0m \u001b[0mself\u001b[0m\u001b[0;34m.\u001b[0m\u001b[0mcalculateBacktestingResult\u001b[0m\u001b[0;34m(\u001b[0m\u001b[0;34m)\u001b[0m\u001b[0;34m\u001b[0m\u001b[0m\n\u001b[0m\u001b[1;32m    794\u001b[0m \u001b[0;34m\u001b[0m\u001b[0m\n\u001b[1;32m    795\u001b[0m         \u001b[0;31m# 输出\u001b[0m\u001b[0;34m\u001b[0m\u001b[0;34m\u001b[0m\u001b[0m\n",
      "\u001b[0;32mC:\\Users\\pc\\Anaconda2_x86\\lib\\site-packages\\vnpy-1.8.1-py2.7.egg\\vnpy\\trader\\app\\ctaStrategy\\ctaBacktesting.pyc\u001b[0m in \u001b[0;36mcalculateBacktestingResult\u001b[0;34m(self)\u001b[0m\n\u001b[1;32m    692\u001b[0m             \u001b[0mendPrice\u001b[0m \u001b[0;34m=\u001b[0m \u001b[0mself\u001b[0m\u001b[0;34m.\u001b[0m\u001b[0mbar\u001b[0m\u001b[0;34m.\u001b[0m\u001b[0mclose\u001b[0m\u001b[0;34m\u001b[0m\u001b[0m\n\u001b[1;32m    693\u001b[0m         \u001b[0;32melse\u001b[0m\u001b[0;34m:\u001b[0m\u001b[0;34m\u001b[0m\u001b[0m\n\u001b[0;32m--> 694\u001b[0;31m             \u001b[0mendPrice\u001b[0m \u001b[0;34m=\u001b[0m \u001b[0mself\u001b[0m\u001b[0;34m.\u001b[0m\u001b[0mtick\u001b[0m\u001b[0;34m.\u001b[0m\u001b[0mlastPrice\u001b[0m\u001b[0;34m\u001b[0m\u001b[0m\n\u001b[0m\u001b[1;32m    695\u001b[0m \u001b[0;34m\u001b[0m\u001b[0m\n\u001b[1;32m    696\u001b[0m         \u001b[0;32mfor\u001b[0m \u001b[0mtrade\u001b[0m \u001b[0;32min\u001b[0m \u001b[0mlongTrade\u001b[0m\u001b[0;34m:\u001b[0m\u001b[0;34m\u001b[0m\u001b[0m\n",
      "\u001b[0;31mAttributeError\u001b[0m: 'NoneType' object has no attribute 'lastPrice'"
     ]
    }
   ],
   "source": [
    "if __name__ == '__main__':\n",
    "    from TickOneStrategy import * #\n",
    "    \n",
    "    # 创建回测引擎\n",
    "    engine = BacktestingEngine()\n",
    "    \n",
    "    # 设置引擎的回测模式为K线\n",
    "    engine.setBacktestingMode(engine.TICK_MODE)\n",
    "\n",
    "    # 设置回测用的数据起始日期\n",
    "    engine.setStartDate('20180809')\n",
    "    engine.setEndDate('20180809')\n",
    "    \n",
    "    # 设置产品相关参数\n",
    "    engine.setCapital(10000)\n",
    "    engine.setSize(10)\n",
    "    engine.setSlippage(1)     # 股指1跳\n",
    "    engine.setRate(3/10000)   # 万0.3 \n",
    "    engine.setPriceTick(1)    # 股指最小价格变动\n",
    "    \n",
    "    # 设置使用的历史数据库\n",
    "    engine.setDatabase(TICK_DB_NAME, 'rb1901') #[IF0000, rb0000]\n",
    "    #engine.setDatabase('VnBitCoin', 'bitcoinTICK')\n",
    "    # 在引擎中创建策略对象\n",
    "    d = {}\n",
    "    engine.initStrategy(TickOneStrategy)\n",
    "    \n",
    "    # 开始跑回测\n",
    "    engine.runBacktesting()\n",
    "    \n",
    "    # 显示回测结果\n",
    "    engine.showBacktestingResult()"
   ]
  },
  {
   "cell_type": "code",
   "execution_count": 28,
   "metadata": {
    "collapsed": false
   },
   "outputs": [
    {
     "name": "stdout",
     "output_type": "stream",
     "text": [
      "<bound method BacktestingEngine.newTick of <vnpy.trader.app.ctaStrategy.ctaBacktesting.BacktestingEngine object at 0x0BCFCF10>>\n"
     ]
    }
   ],
   "source": [
    "print engine.newTick"
   ]
  },
  {
   "cell_type": "code",
   "execution_count": 7,
   "metadata": {
    "collapsed": false
   },
   "outputs": [
    {
     "data": {
      "text/plain": [
       "[]"
      ]
     },
     "execution_count": 7,
     "metadata": {},
     "output_type": "execute_result"
    }
   ],
   "source": [
    "engine.tradeDict.values()"
   ]
  },
  {
   "cell_type": "code",
   "execution_count": null,
   "metadata": {
    "collapsed": true
   },
   "outputs": [],
   "source": []
  }
 ],
 "metadata": {
  "kernelspec": {
   "display_name": "Python 2",
   "language": "python",
   "name": "python2"
  },
  "language_info": {
   "codemirror_mode": {
    "name": "ipython",
    "version": 2
   },
   "file_extension": ".py",
   "mimetype": "text/x-python",
   "name": "python",
   "nbconvert_exporter": "python",
   "pygments_lexer": "ipython2",
   "version": "2.7.13"
  }
 },
 "nbformat": 4,
 "nbformat_minor": 0
}
